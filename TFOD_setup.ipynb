{
  "nbformat": 4,
  "nbformat_minor": 0,
  "metadata": {
    "colab": {
      "provenance": []
    },
    "kernelspec": {
      "name": "python3",
      "display_name": "Python 3"
    },
    "language_info": {
      "name": "python"
    }
  },
  "cells": [
    {
      "cell_type": "markdown",
      "source": [
        "# Tensorflow object detection API setup from the tfod documentation\n",
        "implemented in google's colab with google drive as the storage mechanism\n",
        "\n",
        "- The gpu step is skipped since colab already has gpu setup\n"
      ],
      "metadata": {
        "id": "eAdegQjipatc"
      }
    },
    {
      "cell_type": "code",
      "execution_count": null,
      "metadata": {
        "id": "9p9ofcwFo9uP"
      },
      "outputs": [],
      "source": [
        "import os\n",
        "import sys\n",
        "from google.colab import drive\n",
        "drive.mount('/content/drive')\n",
        "tensorflow_path = '/content/drive/MyDrive/Tensorflow'\n",
        "\n",
        "## Setup Tensorflow Object Detection API\n",
        "\n",
        "# Get the tensorflow model from Tensorflow's github repo\n",
        "!git clone https://github.com/tensorflow/models.git\n",
        "\n",
        "# protobuf installation and compilation\n",
        "!apt-get install protobuf-compiler python-lxml python-pil\n",
        "!pip install Cython pandas tf-slim lvis\n",
        "os.chdir('/content/drive/MyDrive/Tensorflow/models/research/')\n",
        "!protoc object_detection/protos/*.proto --python_out=.\n",
        "\n",
        "# Add protobuf to path\n",
        "os.environ['PYTHONPATH'] += \":/content/drive/MyDrive/Tensorflow/models\"\n",
        "sys.path.append('/content/drive/MyDrive/Tensorflow/models/research')\n",
        "\n",
        "# Coco API Installations\n",
        "os.chdir(tensorflow_path)\n",
        "!git clone https://github.com/cocodataset/cocoapi.git\n",
        "os.chdir('cocoapi/PythonAPI')\n",
        "!make\n",
        "!cp -r pycocotools /content/drive/MyDrive/Tensorflow/models/research/\n",
        "\n",
        "# change directory to tensorflow/models/research\n",
        "os.chdir(f\"{tensorflow_path}/models/research\")\n",
        "\n",
        "# Installing the Object Detection API\n",
        "!cp object_detection/packages/tf2/setup.py .\n",
        "!python3 -m pip install --use-feature=2020-resolver .\n",
        "\n",
        "# Testing the Installation\n",
        "!python3 object_detection/builders/model_builder_tf2_test.py"
      ]
    },
    {
      "cell_type": "markdown",
      "source": [
        "# continue with the custom object detection or use an already pretrained model from here \n"
      ],
      "metadata": {
        "id": "zO_jvQcapZFl"
      }
    },
    {
      "cell_type": "code",
      "source": [],
      "metadata": {
        "id": "_7ZJCPIEp_di"
      },
      "execution_count": null,
      "outputs": []
    }
  ]
}